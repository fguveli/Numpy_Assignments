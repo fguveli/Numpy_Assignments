{
 "cells": [
  {
   "cell_type": "markdown",
   "metadata": {},
   "source": [
    "# <font color=blue>Assignments for \"basics of NumPy Array\"</font>"
   ]
  },
  {
   "cell_type": "markdown",
   "metadata": {},
   "source": [
    "1. Create 3 lists representing house features, each list containing 10 values. First one for squaremeter of house, second one for rooms and last one for price. Then, create an array combining these lists."
   ]
  },
  {
   "cell_type": "code",
   "execution_count": 1,
   "metadata": {},
   "outputs": [
    {
     "name": "stdout",
     "output_type": "stream",
     "text": [
      "[[100  95  55  45  65  75 125 145 165 185]\n",
      " [  3   2   2   1   2   2   2   3   4   5]\n",
      " [400 350 250 200 225 275 300 250 500 700]]\n"
     ]
    }
   ],
   "source": [
    "import numpy as np\n",
    "\n",
    "sqmeter = [100, 95, 55, 45, 65, 75, 125, 145, 165, 185]\n",
    "rooms = [3, 2, 2, 1, 2, 2, 2, 3, 4, 5]\n",
    "price = [400, 350, 250, 200, 225, 275, 300, 250, 500, 700]\n",
    "\n",
    "\n",
    "sq_array = np.array(sqmeter)\n",
    "rooms_array = np.array(rooms)\n",
    "price_array = np.array(price)\n",
    "\n",
    "houses_array = np.array([sq_array, rooms_array, price_array])\n",
    "\n",
    "print(houses_array)\n"
   ]
  },
  {
   "cell_type": "markdown",
   "metadata": {},
   "source": [
    "2. Transpose the array you have created, so that every line can represent features of one house."
   ]
  },
  {
   "cell_type": "code",
   "execution_count": 39,
   "metadata": {},
   "outputs": [
    {
     "name": "stdout",
     "output_type": "stream",
     "text": [
      "[[100   3 400]\n",
      " [ 95   2 350]\n",
      " [ 55   2 250]\n",
      " [ 45   1 200]\n",
      " [ 65   2 225]\n",
      " [ 75   2 275]\n",
      " [125   2 300]\n",
      " [145   3 250]\n",
      " [165   4 500]\n",
      " [185   5 700]]\n"
     ]
    }
   ],
   "source": [
    "array2 = houses_array.transpose()\n",
    "print(array2)"
   ]
  },
  {
   "cell_type": "markdown",
   "metadata": {},
   "source": [
    "3. Display the shape of the array and explain what it means."
   ]
  },
  {
   "cell_type": "code",
   "execution_count": 44,
   "metadata": {},
   "outputs": [
    {
     "name": "stdout",
     "output_type": "stream",
     "text": [
      "(10, 3)\n",
      "It means it has 10 rows and 3 columns\n"
     ]
    }
   ],
   "source": [
    "print(array2.shape)\n",
    "print(\"It means it has 10 rows and 3 columns\")"
   ]
  },
  {
   "cell_type": "markdown",
   "metadata": {},
   "source": [
    "4. Write a function that returns an array of ones with zeros where both row and column numbers are even. Sample array is below. Number of rows and columns will be entered as parameters.\n",
    "\n",
    "```python\n",
    "    shape(6 x 5) --> [[1   1   1   1   1]\n",
    "                      [1   0   1   0   1]\n",
    "                      [1   1   1   1   1]\n",
    "                      [1   0   1   0   1]\n",
    "                      [1   1   1   1   1]\n",
    "                      [1   0   1   0   1]]\n",
    "```"
   ]
  },
  {
   "cell_type": "code",
   "execution_count": 9,
   "metadata": {},
   "outputs": [
    {
     "name": "stdin",
     "output_type": "stream",
     "text": [
      "Please enter row number:  6\n",
      "Please enter column number:  5\n"
     ]
    },
    {
     "name": "stdout",
     "output_type": "stream",
     "text": [
      "[[1. 1. 1. 1. 1.]\n",
      " [1. 0. 1. 0. 1.]\n",
      " [1. 1. 1. 1. 1.]\n",
      " [1. 0. 1. 0. 1.]\n",
      " [1. 1. 1. 1. 1.]\n",
      " [1. 0. 1. 0. 1.]]\n"
     ]
    }
   ],
   "source": [
    "arrayRow = int(input(\"Please enter row number: \"))\n",
    "arrayCol = int(input(\"Please enter column number: \"))\n",
    "\n",
    "numArray = np.ones((arrayRow, arrayCol))\n",
    "\n",
    "for i in range(arrayRow):\n",
    "    for j in range(arrayCol):\n",
    "        if (i +  1) % 2 == 0 and (j + 1) % 2 == 0:\n",
    "            numArray[i][j] = 0\n",
    "\n",
    "print(numArray)\n"
   ]
  }
 ],
 "metadata": {
  "kernelspec": {
   "display_name": "Python 3",
   "language": "python",
   "name": "python3"
  },
  "language_info": {
   "codemirror_mode": {
    "name": "ipython",
    "version": 3
   },
   "file_extension": ".py",
   "mimetype": "text/x-python",
   "name": "python",
   "nbconvert_exporter": "python",
   "pygments_lexer": "ipython3",
   "version": "3.8.2"
  }
 },
 "nbformat": 4,
 "nbformat_minor": 4
}
